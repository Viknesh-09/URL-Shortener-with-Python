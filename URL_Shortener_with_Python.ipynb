{
  "nbformat": 4,
  "nbformat_minor": 0,
  "metadata": {
    "colab": {
      "provenance": [],
      "authorship_tag": "ABX9TyPpA0/4ZE4HRk9Bdpi1Z1G1",
      "include_colab_link": true
    },
    "kernelspec": {
      "name": "python3",
      "display_name": "Python 3"
    },
    "language_info": {
      "name": "python"
    }
  },
  "cells": [
    {
      "cell_type": "markdown",
      "metadata": {
        "id": "view-in-github",
        "colab_type": "text"
      },
      "source": [
        "<a href=\"https://colab.research.google.com/github/Viknesh-09/URL-Shortener-with-Python/blob/main/URL_Shortener_with_Python.ipynb\" target=\"_parent\"><img src=\"https://colab.research.google.com/assets/colab-badge.svg\" alt=\"Open In Colab\"/></a>"
      ]
    },
    {
      "cell_type": "code",
      "source": [
        "# Install the pyshorteners library if not already installed\n",
        "!pip install pyshorteners"
      ],
      "metadata": {
        "id": "Qhx1LXLlQxLB"
      },
      "execution_count": null,
      "outputs": []
    },
    {
      "cell_type": "code",
      "source": [
        "# Import the pyshorteners library\n",
        "import pyshorteners"
      ],
      "metadata": {
        "id": "-Tw_JxTZQ0UK"
      },
      "execution_count": null,
      "outputs": []
    },
    {
      "cell_type": "code",
      "source": [
        "# Function to shorten a URL\n",
        "def shorten_url(long_url):\n",
        "    s = pyshorteners.Shortener()\n",
        "    short_url = s.tinyurl.short(long_url)\n",
        "    return short_url"
      ],
      "metadata": {
        "id": "gLxbHf_bQ4FK"
      },
      "execution_count": null,
      "outputs": []
    },
    {
      "cell_type": "code",
      "source": [
        "# Input the URL to shorten\n",
        "long_url = input(\"Enter the URL to shorten: \")\n"
      ],
      "metadata": {
        "id": "7pW9AK9hQ7Hx"
      },
      "execution_count": null,
      "outputs": []
    },
    {
      "cell_type": "code",
      "source": [
        "# Call the function to shorten the URL\n",
        "short_url = shorten_url(long_url)"
      ],
      "metadata": {
        "id": "Fw9Rf1XiQ-j9"
      },
      "execution_count": null,
      "outputs": []
    },
    {
      "cell_type": "code",
      "source": [
        "# Display the shortened URL\n",
        "print(f\"Shortened URL: {short_url}\")"
      ],
      "metadata": {
        "id": "RTMUd3VNQ_0C"
      },
      "execution_count": null,
      "outputs": []
    }
  ]
}